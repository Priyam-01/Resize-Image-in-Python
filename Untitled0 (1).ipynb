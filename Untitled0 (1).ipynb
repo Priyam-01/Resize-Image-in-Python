{
  "nbformat": 4,
  "nbformat_minor": 0,
  "metadata": {
    "colab": {
      "provenance": []
    },
    "kernelspec": {
      "name": "python3",
      "display_name": "Python 3"
    },
    "language_info": {
      "name": "python"
    }
  },
  "cells": [
    {
      "cell_type": "code",
      "execution_count": null,
      "metadata": {
        "id": "IEQdH9qIuSP3"
      },
      "outputs": [],
      "source": []
    },
    {
      "cell_type": "code",
      "source": [
        "pip install pillow"
      ],
      "metadata": {
        "colab": {
          "base_uri": "https://localhost:8080/"
        },
        "id": "tlV7xcAkuVlb",
        "outputId": "cab779e4-cabf-4516-9fb0-9084fc33402d"
      },
      "execution_count": 3,
      "outputs": [
        {
          "output_type": "stream",
          "name": "stdout",
          "text": [
            "Requirement already satisfied: pillow in /usr/local/lib/python3.10/dist-packages (9.4.0)\n"
          ]
        }
      ]
    },
    {
      "cell_type": "code",
      "source": [
        "from PIL import Image\n",
        "\n",
        "source_path = r\"/content/output.PNG\"\n",
        "target_path = r\"/content/outnew.png\"\n",
        "\n",
        "desired_size = (300, 200)\n",
        "\n",
        "image = Image.open(source_path)\n",
        "resized_image = image.resize(desired_size)\n",
        "resized_image.save(target_path)"
      ],
      "metadata": {
        "id": "I9OI0c2RuX2M"
      },
      "execution_count": 2,
      "outputs": []
    },
    {
      "cell_type": "code",
      "source": [],
      "metadata": {
        "id": "-wrhgBQKuunc"
      },
      "execution_count": null,
      "outputs": []
    }
  ]
}